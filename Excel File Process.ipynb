{
 "cells": [
  {
   "cell_type": "markdown",
   "metadata": {},
   "source": [
    "# 讀Excel多個工作表"
   ]
  },
  {
   "cell_type": "code",
   "execution_count": 1,
   "metadata": {},
   "outputs": [],
   "source": [
    "import  pandas  as pd"
   ]
  },
  {
   "cell_type": "code",
   "execution_count": 2,
   "metadata": {},
   "outputs": [],
   "source": [
    "xls = pd.ExcelFile('new.xlsx')"
   ]
  },
  {
   "cell_type": "code",
   "execution_count": 3,
   "metadata": {},
   "outputs": [
    {
     "data": {
      "text/plain": [
       "['Sheet1', '工作表1', '工作表2']"
      ]
     },
     "execution_count": 3,
     "metadata": {},
     "output_type": "execute_result"
    }
   ],
   "source": [
    "xls.sheet_names"
   ]
  },
  {
   "cell_type": "code",
   "execution_count": 4,
   "metadata": {},
   "outputs": [
    {
     "name": "stderr",
     "output_type": "stream",
     "text": [
      "C:\\Users\\yychiang\\Anaconda3\\lib\\site-packages\\pandas\\util\\_decorators.py:188: FutureWarning: The `sheetname` keyword is deprecated, use `sheet_name` instead\n",
      "  return func(*args, **kwargs)\n"
     ]
    }
   ],
   "source": [
    "frames=[]\n",
    "for i in xls.sheet_names:\n",
    "    df = pd.read_excel(xls, sheetname=i)\n",
    "    frames.append(df)"
   ]
  },
  {
   "cell_type": "code",
   "execution_count": 5,
   "metadata": {},
   "outputs": [
    {
     "data": {
      "text/plain": [
       "[  Col1  Col2\n",
       " 0    A     1\n",
       " 1    B     2\n",
       " 2    C     3,   Col1  Col2\n",
       " 0    C     2\n",
       " 1    D     3\n",
       " 2    E     4,   Col1  Col2\n",
       " 0    G    10\n",
       " 1    H    11]"
      ]
     },
     "execution_count": 5,
     "metadata": {},
     "output_type": "execute_result"
    }
   ],
   "source": [
    "frames"
   ]
  },
  {
   "cell_type": "code",
   "execution_count": 6,
   "metadata": {},
   "outputs": [],
   "source": [
    "result = pd.concat(frames,ignore_index=True, sort=False)"
   ]
  },
  {
   "cell_type": "code",
   "execution_count": 7,
   "metadata": {},
   "outputs": [
    {
     "data": {
      "text/html": [
       "<div>\n",
       "<style scoped>\n",
       "    .dataframe tbody tr th:only-of-type {\n",
       "        vertical-align: middle;\n",
       "    }\n",
       "\n",
       "    .dataframe tbody tr th {\n",
       "        vertical-align: top;\n",
       "    }\n",
       "\n",
       "    .dataframe thead th {\n",
       "        text-align: right;\n",
       "    }\n",
       "</style>\n",
       "<table border=\"1\" class=\"dataframe\">\n",
       "  <thead>\n",
       "    <tr style=\"text-align: right;\">\n",
       "      <th></th>\n",
       "      <th>Col1</th>\n",
       "      <th>Col2</th>\n",
       "    </tr>\n",
       "  </thead>\n",
       "  <tbody>\n",
       "    <tr>\n",
       "      <th>0</th>\n",
       "      <td>A</td>\n",
       "      <td>1</td>\n",
       "    </tr>\n",
       "    <tr>\n",
       "      <th>1</th>\n",
       "      <td>B</td>\n",
       "      <td>2</td>\n",
       "    </tr>\n",
       "    <tr>\n",
       "      <th>2</th>\n",
       "      <td>C</td>\n",
       "      <td>3</td>\n",
       "    </tr>\n",
       "    <tr>\n",
       "      <th>3</th>\n",
       "      <td>C</td>\n",
       "      <td>2</td>\n",
       "    </tr>\n",
       "    <tr>\n",
       "      <th>4</th>\n",
       "      <td>D</td>\n",
       "      <td>3</td>\n",
       "    </tr>\n",
       "    <tr>\n",
       "      <th>5</th>\n",
       "      <td>E</td>\n",
       "      <td>4</td>\n",
       "    </tr>\n",
       "    <tr>\n",
       "      <th>6</th>\n",
       "      <td>G</td>\n",
       "      <td>10</td>\n",
       "    </tr>\n",
       "    <tr>\n",
       "      <th>7</th>\n",
       "      <td>H</td>\n",
       "      <td>11</td>\n",
       "    </tr>\n",
       "  </tbody>\n",
       "</table>\n",
       "</div>"
      ],
      "text/plain": [
       "  Col1  Col2\n",
       "0    A     1\n",
       "1    B     2\n",
       "2    C     3\n",
       "3    C     2\n",
       "4    D     3\n",
       "5    E     4\n",
       "6    G    10\n",
       "7    H    11"
      ]
     },
     "execution_count": 7,
     "metadata": {},
     "output_type": "execute_result"
    }
   ],
   "source": [
    "result"
   ]
  },
  {
   "cell_type": "markdown",
   "metadata": {},
   "source": [
    "# 讀Excel部分欄位並輸出"
   ]
  },
  {
   "cell_type": "code",
   "execution_count": 9,
   "metadata": {},
   "outputs": [],
   "source": [
    "df=pd.read_excel('aaa.xls',dtype=str)"
   ]
  },
  {
   "cell_type": "code",
   "execution_count": 10,
   "metadata": {},
   "outputs": [],
   "source": [
    "data=df.head()"
   ]
  },
  {
   "cell_type": "code",
   "execution_count": 11,
   "metadata": {},
   "outputs": [
    {
     "data": {
      "text/html": [
       "<div>\n",
       "<style scoped>\n",
       "    .dataframe tbody tr th:only-of-type {\n",
       "        vertical-align: middle;\n",
       "    }\n",
       "\n",
       "    .dataframe tbody tr th {\n",
       "        vertical-align: top;\n",
       "    }\n",
       "\n",
       "    .dataframe thead th {\n",
       "        text-align: right;\n",
       "    }\n",
       "</style>\n",
       "<table border=\"1\" class=\"dataframe\">\n",
       "  <thead>\n",
       "    <tr style=\"text-align: right;\">\n",
       "      <th></th>\n",
       "      <th>序</th>\n",
       "      <th>公文文號</th>\n",
       "      <th>登記單位</th>\n",
       "      <th>登記組別</th>\n",
       "      <th>登記人員</th>\n",
       "      <th>登記時間</th>\n",
       "      <th>收創別</th>\n",
       "      <th>公文文號.1</th>\n",
       "      <th>收文辦理類別名稱</th>\n",
       "      <th>來文機關名稱</th>\n",
       "      <th>...</th>\n",
       "      <th>應用限制</th>\n",
       "      <th>應用限制說明</th>\n",
       "      <th>保存狀況</th>\n",
       "      <th>修補後狀況</th>\n",
       "      <th>微縮編號</th>\n",
       "      <th>密件編號.1</th>\n",
       "      <th>擬銷毀日期</th>\n",
       "      <th>擬移轉日期</th>\n",
       "      <th>公文銷毀移轉移交註記</th>\n",
       "      <th>案由</th>\n",
       "    </tr>\n",
       "  </thead>\n",
       "  <tbody>\n",
       "    <tr>\n",
       "      <th>0</th>\n",
       "      <td>1</td>\n",
       "      <td>0590011342</td>\n",
       "      <td>總收文</td>\n",
       "      <td>NaN</td>\n",
       "      <td>NaN</td>\n",
       "      <td>NaN</td>\n",
       "      <td>收文</td>\n",
       "      <td>NaN</td>\n",
       "      <td>NaN</td>\n",
       "      <td>教育部</td>\n",
       "      <td>...</td>\n",
       "      <td>限制開放</td>\n",
       "      <td>限制開放</td>\n",
       "      <td>良好</td>\n",
       "      <td></td>\n",
       "      <td>NaN</td>\n",
       "      <td></td>\n",
       "      <td>069/11/17</td>\n",
       "      <td></td>\n",
       "      <td>NaN</td>\n",
       "      <td>檢發「國外學人留學生擬返國服務名冊」希預為遴用。</td>\n",
       "    </tr>\n",
       "    <tr>\n",
       "      <th>1</th>\n",
       "      <td>2</td>\n",
       "      <td>0590011555</td>\n",
       "      <td>總收文</td>\n",
       "      <td>NaN</td>\n",
       "      <td>NaN</td>\n",
       "      <td>NaN</td>\n",
       "      <td>收文</td>\n",
       "      <td>NaN</td>\n",
       "      <td>NaN</td>\n",
       "      <td>教育部</td>\n",
       "      <td>...</td>\n",
       "      <td>限制開放</td>\n",
       "      <td>限制開放</td>\n",
       "      <td>良好</td>\n",
       "      <td></td>\n",
       "      <td>NaN</td>\n",
       "      <td></td>\n",
       "      <td>069/12/24</td>\n",
       "      <td></td>\n",
       "      <td>NaN</td>\n",
       "      <td>擬聘李勁吾博士等八人一案，覆請查照。</td>\n",
       "    </tr>\n",
       "    <tr>\n",
       "      <th>2</th>\n",
       "      <td>3</td>\n",
       "      <td>0600010211</td>\n",
       "      <td>總收文</td>\n",
       "      <td>NaN</td>\n",
       "      <td>NaN</td>\n",
       "      <td>NaN</td>\n",
       "      <td>收文</td>\n",
       "      <td>NaN</td>\n",
       "      <td>NaN</td>\n",
       "      <td>桃園縣政府</td>\n",
       "      <td>...</td>\n",
       "      <td>限制開放</td>\n",
       "      <td>限制開放</td>\n",
       "      <td>良好</td>\n",
       "      <td></td>\n",
       "      <td>NaN</td>\n",
       "      <td></td>\n",
       "      <td>070/02/22</td>\n",
       "      <td></td>\n",
       "      <td>NaN</td>\n",
       "      <td>為函送職員通訊錄格式請查照辦理由。</td>\n",
       "    </tr>\n",
       "    <tr>\n",
       "      <th>3</th>\n",
       "      <td>4</td>\n",
       "      <td>0600011659</td>\n",
       "      <td>總收文</td>\n",
       "      <td>NaN</td>\n",
       "      <td>NaN</td>\n",
       "      <td>NaN</td>\n",
       "      <td>收文</td>\n",
       "      <td>NaN</td>\n",
       "      <td>NaN</td>\n",
       "      <td>私立靜宜女子文理學院</td>\n",
       "      <td>...</td>\n",
       "      <td>限制開放</td>\n",
       "      <td>限制開放</td>\n",
       "      <td>良好</td>\n",
       "      <td></td>\n",
       "      <td>NaN</td>\n",
       "      <td></td>\n",
       "      <td>063/12/23</td>\n",
       "      <td></td>\n",
       "      <td>NaN</td>\n",
       "      <td>本院前任院長蔡任漁博士於本年二月間提請辭職，業經董事會同意，改聘藩為院長，並於本年二月廿四日...</td>\n",
       "    </tr>\n",
       "    <tr>\n",
       "      <th>4</th>\n",
       "      <td>5</td>\n",
       "      <td>0600011663</td>\n",
       "      <td>總收文</td>\n",
       "      <td>NaN</td>\n",
       "      <td>NaN</td>\n",
       "      <td>NaN</td>\n",
       "      <td>收文</td>\n",
       "      <td>NaN</td>\n",
       "      <td>NaN</td>\n",
       "      <td>中國人事行政月刊社</td>\n",
       "      <td>...</td>\n",
       "      <td>限制開放</td>\n",
       "      <td>限制開放</td>\n",
       "      <td>良好</td>\n",
       "      <td></td>\n",
       "      <td>NaN</td>\n",
       "      <td></td>\n",
       "      <td>065/12/24</td>\n",
       "      <td></td>\n",
       "      <td>NaN</td>\n",
       "      <td>本刊自五十七年元月創始發行，迄今已達四載，諸承鼎助訂閱，至深感荷。除屆時繼續寄奉刊物外，茲隨...</td>\n",
       "    </tr>\n",
       "  </tbody>\n",
       "</table>\n",
       "<p>5 rows × 66 columns</p>\n",
       "</div>"
      ],
      "text/plain": [
       "   序        公文文號 登記單位 登記組別 登記人員 登記時間 收創別 公文文號.1 收文辦理類別名稱      來文機關名稱  ...  \\\n",
       "0  1  0590011342  總收文  NaN  NaN  NaN  收文    NaN      NaN         教育部  ...   \n",
       "1  2  0590011555  總收文  NaN  NaN  NaN  收文    NaN      NaN         教育部  ...   \n",
       "2  3  0600010211  總收文  NaN  NaN  NaN  收文    NaN      NaN       桃園縣政府  ...   \n",
       "3  4  0600011659  總收文  NaN  NaN  NaN  收文    NaN      NaN  私立靜宜女子文理學院  ...   \n",
       "4  5  0600011663  總收文  NaN  NaN  NaN  收文    NaN      NaN   中國人事行政月刊社  ...   \n",
       "\n",
       "   應用限制 應用限制說明 保存狀況 修補後狀況 微縮編號      密件編號.1      擬銷毀日期      擬移轉日期 公文銷毀移轉移交註記  \\\n",
       "0  限制開放   限制開放   良好        NaN              069/11/17                   NaN   \n",
       "1  限制開放   限制開放   良好        NaN              069/12/24                   NaN   \n",
       "2  限制開放   限制開放   良好        NaN              070/02/22                   NaN   \n",
       "3  限制開放   限制開放   良好        NaN              063/12/23                   NaN   \n",
       "4  限制開放   限制開放   良好        NaN              065/12/24                   NaN   \n",
       "\n",
       "                                                  案由  \n",
       "0                           檢發「國外學人留學生擬返國服務名冊」希預為遴用。  \n",
       "1                                 擬聘李勁吾博士等八人一案，覆請查照。  \n",
       "2                                  為函送職員通訊錄格式請查照辦理由。  \n",
       "3  本院前任院長蔡任漁博士於本年二月間提請辭職，業經董事會同意，改聘藩為院長，並於本年二月廿四日...  \n",
       "4  本刊自五十七年元月創始發行，迄今已達四載，諸承鼎助訂閱，至深感荷。除屆時繼續寄奉刊物外，茲隨...  \n",
       "\n",
       "[5 rows x 66 columns]"
      ]
     },
     "execution_count": 11,
     "metadata": {},
     "output_type": "execute_result"
    }
   ],
   "source": [
    "data"
   ]
  },
  {
   "cell_type": "code",
   "execution_count": 12,
   "metadata": {},
   "outputs": [],
   "source": [
    "my=df[['公文文號','年度號','分類號','保存年限',]]"
   ]
  },
  {
   "cell_type": "code",
   "execution_count": 13,
   "metadata": {},
   "outputs": [],
   "source": [
    "pd.options.display.float_format = '{:,3d}'.format"
   ]
  },
  {
   "cell_type": "code",
   "execution_count": 14,
   "metadata": {},
   "outputs": [],
   "source": [
    "my.to_excel(\"output.xlsx\")"
   ]
  },
  {
   "cell_type": "code",
   "execution_count": null,
   "metadata": {},
   "outputs": [],
   "source": []
  }
 ],
 "metadata": {
  "kernelspec": {
   "display_name": "Python 3",
   "language": "python",
   "name": "python3"
  },
  "language_info": {
   "codemirror_mode": {
    "name": "ipython",
    "version": 3
   },
   "file_extension": ".py",
   "mimetype": "text/x-python",
   "name": "python",
   "nbconvert_exporter": "python",
   "pygments_lexer": "ipython3",
   "version": "3.7.3"
  }
 },
 "nbformat": 4,
 "nbformat_minor": 2
}
